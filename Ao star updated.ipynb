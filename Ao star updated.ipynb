{
 "cells": [
  {
   "cell_type": "code",
   "execution_count": 1,
   "metadata": {},
   "outputs": [],
   "source": [
    "Graph_d={\n",
    "    'A':[('B','C'),'D'],\n",
    "    'B':[('G','H')],\n",
    "    'C':None,\n",
    "    'D':[('E','F')],\n",
    "    'I':None,\n",
    "    'G':None,\n",
    "    'H':None,\n",
    "    'E':['I'],\n",
    "    'F':None\n",
    "}"
   ]
  },
  {
   "cell_type": "code",
   "execution_count": 13,
   "metadata": {},
   "outputs": [],
   "source": [
    "def H_val(node):\n",
    "    if node in H_dist:\n",
    "        return NH[node]"
   ]
  },
  {
   "cell_type": "code",
   "execution_count": 19,
   "metadata": {},
   "outputs": [],
   "source": [
    "H_dist={\n",
    "    'A':5,'B':3,'C':4,'D':5,'G':5,'H':7,'E':4,'F':4,'G':5,'I':0\n",
    "}\n",
    "NH={\n",
    "    'A':5,'B':3,'C':4,'D':5,'G':5,'H':7,'E':4,'F':4,'G':5,'I':0\n",
    "}\n",
    "parent={}\n",
    "visited=[]\n",
    "label={'A':'NS','B':'NS','C':'NS','D':'NS','E':'NS','F':'NS','G':'NS','H':'NS','I':'NS'}\n",
    "l='NS'"
   ]
  },
  {
   "cell_type": "code",
   "execution_count": 20,
   "metadata": {},
   "outputs": [],
   "source": [
    "def AO_star(node):\n",
    "    global l\n",
    "    val=0\n",
    "    print('-'*30)\n",
    "    visited.append(node)\n",
    "    if Graph_d[node]==None:\n",
    "        NH[node]=H_val(node)+1\n",
    "        print(node,'return',H_val(node)+1)\n",
    "        if H_dist[node]==0:\n",
    "            l='S'\n",
    "        return [H_val(node)+1,l]\n",
    "    else:\n",
    "        for SUCC in Graph_d[node]:\n",
    "            print('SUCC',SUCC)            \n",
    "            for n in SUCC:\n",
    "                v,l=AO_star(n)\n",
    "                val=val+v\n",
    "                label[n]=l\n",
    "                parent[n]=node\n",
    "            NH[node]=val\n",
    "            print(node,'returns',val)\n",
    "        NH[node]=val\n",
    "        return val,l"
   ]
  },
  {
   "cell_type": "code",
   "execution_count": 21,
   "metadata": {},
   "outputs": [
    {
     "name": "stdout",
     "output_type": "stream",
     "text": [
      "------------------------------\n",
      "SUCC ('B', 'C')\n",
      "------------------------------\n",
      "SUCC ('G', 'H')\n",
      "------------------------------\n",
      "G return 7\n",
      "------------------------------\n",
      "H return 9\n",
      "B returns 16\n",
      "------------------------------\n",
      "C return 6\n",
      "A returns 22\n",
      "SUCC D\n",
      "------------------------------\n",
      "SUCC ('E', 'F')\n",
      "------------------------------\n",
      "SUCC I\n",
      "------------------------------\n",
      "I return 2\n",
      "E returns 2\n",
      "------------------------------\n",
      "F return 6\n",
      "D returns 8\n",
      "A returns 30\n",
      "['A', 'D', 'E', 'F', 'I']\n"
     ]
    }
   ],
   "source": [
    "NH['A'],label['A']=AO_star('A')\n",
    "path=[]\n",
    "for k,v in label.items():\n",
    "    if v == 'S':\n",
    "        path.append(k)\n",
    "        \n",
    "if label['A']=='NS':\n",
    "    print('We cannot solve the graph')\n",
    "else:\n",
    "    print(path)"
   ]
  },
  {
   "cell_type": "code",
   "execution_count": null,
   "metadata": {},
   "outputs": [],
   "source": []
  }
 ],
 "metadata": {
  "kernelspec": {
   "display_name": "Python 3",
   "language": "python",
   "name": "python3"
  },
  "language_info": {
   "codemirror_mode": {
    "name": "ipython",
    "version": 3
   },
   "file_extension": ".py",
   "mimetype": "text/x-python",
   "name": "python",
   "nbconvert_exporter": "python",
   "pygments_lexer": "ipython3",
   "version": "3.8.3"
  }
 },
 "nbformat": 4,
 "nbformat_minor": 4
}
